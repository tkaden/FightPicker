{
 "cells": [
  {
   "cell_type": "code",
   "execution_count": 8,
   "metadata": {
    "collapsed": true
   },
   "outputs": [],
   "source": [
    "# Fight Picker\n",
    "## Tyler Aden"
   ]
  },
  {
   "cell_type": "markdown",
   "source": [
    "## Introduction\n",
    "\n",
    "This is the workflow for a fight prediction application. This notebook includes:\n",
    "\n",
    "* Introduction\n",
    "    * Background\n",
    "    * Objective\n",
    "* Data Requirements\n",
    "    * Web Scraping\n",
    "    * Data Cleansing and Blending\n",
    "    * Finalized Dataset\n",
    "* Libraries Used\n",
    "* EDA\n",
    "    * Statistical Overview\n",
    "    * Heatmap and Correlation\n",
    "    * Statistical Tests\n",
    "    * Distribution Plots\n",
    "* Feature Selection\n",
    "    * Feature Significance\n",
    "* Modelling the Data\n",
    "    * Logistical Regression\n",
    "    * Random Forest\n",
    "    * Neural Network\n",
    "* Conclusion\n",
    "* Improvements\n",
    "* Citation"
   ],
   "metadata": {
    "collapsed": false
   }
  },
  {
   "cell_type": "markdown",
   "source": [
    "## Background\n",
    "\n",
    "This project is heavily influenced by [MMA Predictor](https://github.com/jasonchanhku/UFC-MMA-Predictor/). That project provides much of the bones of what I'm trying to accomplish. However, I think there are a few key elements to expand upon to improve the original project. Generally, the idea is to generate more realistic betting odds between an **Favorite** and an **Underdog** to gain an edge over Vegas and to discover insights that experts may have missed."
   ],
   "metadata": {
    "collapsed": false
   }
  },
  {
   "cell_type": "markdown",
   "source": [
    "## Objective\n",
    "The objective of this project is to build a model that:\n",
    "* Predicts better than 50% accuracy\n",
    "* Predicts better than choosing strictly favorites\n",
    "\n",
    "Further analysis on betting odds vs model performance to also be done."
   ],
   "metadata": {
    "collapsed": false
   }
  },
  {
   "cell_type": "markdown",
   "source": [
    "## Data Requirements\n",
    "\n",
    "Two datasets are needed and scraped from public sources:\n",
    "\n",
    "### UFC Fighters Database\n",
    "\n",
    "[Dataset](http://www.fightmetric.com/statistics/fighters) that contains fight stats for all UFC fighters\n",
    "\n",
    "### Dataset preview"
   ],
   "metadata": {
    "collapsed": false
   }
  },
  {
   "cell_type": "code",
   "execution_count": 9,
   "outputs": [
    {
     "data": {
      "text/plain": "                  NAME  Weight    WeightClass  REACH  SLPM  SAPM  STRA  STRD  \\\n0            Tom Aaron     155    lightweight     71  0.00  0.00  0.00  0.00   \n1         Danny Abbadi     155    lightweight     71  3.29  4.41  0.38  0.57   \n2         David Abbott     265    heavyweight     77  1.35  3.55  0.30  0.38   \n3  Shamil Abdurakhimov     235    heavyweight     76  2.53  2.53  0.45  0.58   \n4         Hiroyuki Abe     145  featherweight     70  1.71  3.11  0.36  0.63   \n\n     TD   TDA   TDD  SUBA  \n0  0.00  0.00  0.00   0.0  \n1  0.00  0.00  0.77   0.0  \n2  1.07  0.33  0.66   0.0  \n3  1.36  0.22  0.77   0.3  \n4  0.00  0.00  0.33   0.0  ",
      "text/html": "<div>\n<style scoped>\n    .dataframe tbody tr th:only-of-type {\n        vertical-align: middle;\n    }\n\n    .dataframe tbody tr th {\n        vertical-align: top;\n    }\n\n    .dataframe thead th {\n        text-align: right;\n    }\n</style>\n<table border=\"1\" class=\"dataframe\">\n  <thead>\n    <tr style=\"text-align: right;\">\n      <th></th>\n      <th>NAME</th>\n      <th>Weight</th>\n      <th>WeightClass</th>\n      <th>REACH</th>\n      <th>SLPM</th>\n      <th>SAPM</th>\n      <th>STRA</th>\n      <th>STRD</th>\n      <th>TD</th>\n      <th>TDA</th>\n      <th>TDD</th>\n      <th>SUBA</th>\n    </tr>\n  </thead>\n  <tbody>\n    <tr>\n      <th>0</th>\n      <td>Tom Aaron</td>\n      <td>155</td>\n      <td>lightweight</td>\n      <td>71</td>\n      <td>0.00</td>\n      <td>0.00</td>\n      <td>0.00</td>\n      <td>0.00</td>\n      <td>0.00</td>\n      <td>0.00</td>\n      <td>0.00</td>\n      <td>0.0</td>\n    </tr>\n    <tr>\n      <th>1</th>\n      <td>Danny Abbadi</td>\n      <td>155</td>\n      <td>lightweight</td>\n      <td>71</td>\n      <td>3.29</td>\n      <td>4.41</td>\n      <td>0.38</td>\n      <td>0.57</td>\n      <td>0.00</td>\n      <td>0.00</td>\n      <td>0.77</td>\n      <td>0.0</td>\n    </tr>\n    <tr>\n      <th>2</th>\n      <td>David Abbott</td>\n      <td>265</td>\n      <td>heavyweight</td>\n      <td>77</td>\n      <td>1.35</td>\n      <td>3.55</td>\n      <td>0.30</td>\n      <td>0.38</td>\n      <td>1.07</td>\n      <td>0.33</td>\n      <td>0.66</td>\n      <td>0.0</td>\n    </tr>\n    <tr>\n      <th>3</th>\n      <td>Shamil Abdurakhimov</td>\n      <td>235</td>\n      <td>heavyweight</td>\n      <td>76</td>\n      <td>2.53</td>\n      <td>2.53</td>\n      <td>0.45</td>\n      <td>0.58</td>\n      <td>1.36</td>\n      <td>0.22</td>\n      <td>0.77</td>\n      <td>0.3</td>\n    </tr>\n    <tr>\n      <th>4</th>\n      <td>Hiroyuki Abe</td>\n      <td>145</td>\n      <td>featherweight</td>\n      <td>70</td>\n      <td>1.71</td>\n      <td>3.11</td>\n      <td>0.36</td>\n      <td>0.63</td>\n      <td>0.00</td>\n      <td>0.00</td>\n      <td>0.33</td>\n      <td>0.0</td>\n    </tr>\n  </tbody>\n</table>\n</div>"
     },
     "execution_count": 9,
     "metadata": {},
     "output_type": "execute_result"
    }
   ],
   "source": [
    "import pandas as pd\n",
    "fighter_db = pd.read_csv('https://raw.githubusercontent.com/tkaden/FightPicker/master/data/UFC_Fighters_Database.csv')\n",
    "fighter_db.head()"
   ],
   "metadata": {
    "collapsed": false,
    "pycharm": {
     "name": "#%%\n"
    }
   }
  },
  {
   "cell_type": "markdown",
   "source": [
    "## Fight History\n",
    "\n",
    "We need a dataset that contains the fight odds as that will be one of the most important variables in our analysis.\n",
    "\n",
    "Odds are available at www.betmma.tips and is a highly valuable resource for statistics as well. Additionally, fightmetric.com is another great resource.\n",
    "\n",
    "Source(s):\n",
    "* http://www.fightmetric.com/statistics/events/completed\n",
    "* http://www.betmma.tips/mma_betting_favorites_vs_underdogs.php\n",
    "\n",
    "This project will also include web scraping code to gather this data and clean it."
   ],
   "metadata": {
    "collapsed": false
   }
  },
  {
   "cell_type": "code",
   "execution_count": 10,
   "outputs": [
    {
     "data": {
      "text/plain": "   RecordID                      Events         Fighter1         Fighter2  \\\n0         1  UFC 159 - Jones vs. Sonnen        Jon Jones     Chael Sonnen   \n1         2  UFC 159 - Jones vs. Sonnen  Michael Bisping     Alan Belcher   \n2         3  UFC 159 - Jones vs. Sonnen       Roy Nelson     Cheick Kongo   \n3         4  UFC 159 - Jones vs. Sonnen       Phil Davis  Vinny Magalhaes   \n4         5  UFC 159 - Jones vs. Sonnen        Pat Healy       Jim Miller   \n\n            Winner  fighter1_odds  fighter2_odds  F1 or F2      Label  \\\n0        Jon Jones           1.13           9.00         1  Favourite   \n1  Michael Bisping           1.57           4.50         1  Favourite   \n2       Roy Nelson           1.43           3.20         1  Favourite   \n3       Phil Davis           1.36           3.55         1  Favourite   \n4        Pat Healy           3.40           1.40         1   Underdog   \n\n       Combine        Favourite         Underdog  \n0  Favourite 1        Jon Jones     Chael Sonnen  \n1  Favourite 1  Michael Bisping     Alan Belcher  \n2  Favourite 1       Roy Nelson     Cheick Kongo  \n3  Favourite 1       Phil Davis  Vinny Magalhaes  \n4   Underdog 1       Jim Miller        Pat Healy  ",
      "text/html": "<div>\n<style scoped>\n    .dataframe tbody tr th:only-of-type {\n        vertical-align: middle;\n    }\n\n    .dataframe tbody tr th {\n        vertical-align: top;\n    }\n\n    .dataframe thead th {\n        text-align: right;\n    }\n</style>\n<table border=\"1\" class=\"dataframe\">\n  <thead>\n    <tr style=\"text-align: right;\">\n      <th></th>\n      <th>RecordID</th>\n      <th>Events</th>\n      <th>Fighter1</th>\n      <th>Fighter2</th>\n      <th>Winner</th>\n      <th>fighter1_odds</th>\n      <th>fighter2_odds</th>\n      <th>F1 or F2</th>\n      <th>Label</th>\n      <th>Combine</th>\n      <th>Favourite</th>\n      <th>Underdog</th>\n    </tr>\n  </thead>\n  <tbody>\n    <tr>\n      <th>0</th>\n      <td>1</td>\n      <td>UFC 159 - Jones vs. Sonnen</td>\n      <td>Jon Jones</td>\n      <td>Chael Sonnen</td>\n      <td>Jon Jones</td>\n      <td>1.13</td>\n      <td>9.00</td>\n      <td>1</td>\n      <td>Favourite</td>\n      <td>Favourite 1</td>\n      <td>Jon Jones</td>\n      <td>Chael Sonnen</td>\n    </tr>\n    <tr>\n      <th>1</th>\n      <td>2</td>\n      <td>UFC 159 - Jones vs. Sonnen</td>\n      <td>Michael Bisping</td>\n      <td>Alan Belcher</td>\n      <td>Michael Bisping</td>\n      <td>1.57</td>\n      <td>4.50</td>\n      <td>1</td>\n      <td>Favourite</td>\n      <td>Favourite 1</td>\n      <td>Michael Bisping</td>\n      <td>Alan Belcher</td>\n    </tr>\n    <tr>\n      <th>2</th>\n      <td>3</td>\n      <td>UFC 159 - Jones vs. Sonnen</td>\n      <td>Roy Nelson</td>\n      <td>Cheick Kongo</td>\n      <td>Roy Nelson</td>\n      <td>1.43</td>\n      <td>3.20</td>\n      <td>1</td>\n      <td>Favourite</td>\n      <td>Favourite 1</td>\n      <td>Roy Nelson</td>\n      <td>Cheick Kongo</td>\n    </tr>\n    <tr>\n      <th>3</th>\n      <td>4</td>\n      <td>UFC 159 - Jones vs. Sonnen</td>\n      <td>Phil Davis</td>\n      <td>Vinny Magalhaes</td>\n      <td>Phil Davis</td>\n      <td>1.36</td>\n      <td>3.55</td>\n      <td>1</td>\n      <td>Favourite</td>\n      <td>Favourite 1</td>\n      <td>Phil Davis</td>\n      <td>Vinny Magalhaes</td>\n    </tr>\n    <tr>\n      <th>4</th>\n      <td>5</td>\n      <td>UFC 159 - Jones vs. Sonnen</td>\n      <td>Pat Healy</td>\n      <td>Jim Miller</td>\n      <td>Pat Healy</td>\n      <td>3.40</td>\n      <td>1.40</td>\n      <td>1</td>\n      <td>Underdog</td>\n      <td>Underdog 1</td>\n      <td>Jim Miller</td>\n      <td>Pat Healy</td>\n    </tr>\n  </tbody>\n</table>\n</div>"
     },
     "execution_count": 10,
     "metadata": {},
     "output_type": "execute_result"
    }
   ],
   "source": [
    "fights_db = pd.read_csv('https://raw.githubusercontent.com/tkaden/FightPicker/master/data/UFC_Fights.csv')\n",
    "fights_db.head()"
   ],
   "metadata": {
    "collapsed": false,
    "pycharm": {
     "name": "#%%\n"
    }
   }
  },
  {
   "cell_type": "markdown",
   "source": [
    "## Data Cleansing and Blending\n",
    "\n",
    "The two datasets above were cleansed and blended together using the following process.\n",
    "\n",
    "### Feature Mapping\n",
    "\n",
    "Note that for each feature `x`. It is the difference between the Favourite vs Underdog. Hence if the feature is positive, this implies the favourite fighter has an advantage over the underdog for that feature.\n",
    "\n",
    "\n",
    "\n",
    "$Feature\\quad { X }_{ i }=\\quad { X }_{ favourite }\\quad -\\quad { X }_{ underdog }$"
   ],
   "metadata": {
    "collapsed": false
   }
  },
  {
   "cell_type": "markdown",
   "source": [
    "## Finalized Dataset\n",
    "\n",
    "The following are the response variable and 10 features used in the dataset. Note that each feature has a suffix of **delta** due to the fact that it undergone the feature mapping stated above.\n",
    "\n",
    "* Label - This is the response variable. Either Favourite or Underdog will win\n",
    "* REACH - Fighter's reach. (Probabaly the least important feature)\n",
    "* SLPM - Significant Strikes Landed per Minute\n",
    "* STRA. - Significant Striking Accuracy\n",
    "* SAPM - Significant Strikes Absorbed per Minute\n",
    "* STRD - Significant Strike Defence (the % of opponents strikes that did not land)\n",
    "* TD - Average Takedowns Landed per 15 minutes\n",
    "* TDA - Takedown Accuracy\n",
    "* TDD - Takedown Defense (the % of opponents TD attempts that did not land)\n",
    "* SUBA - Average Submissions Attempted per 15 minutes\n",
    "* Odds - Fighter's decimal odds spread for that specific matchup"
   ],
   "metadata": {
    "collapsed": false
   }
  },
  {
   "cell_type": "code",
   "execution_count": 11,
   "outputs": [
    {
     "data": {
      "text/plain": "                                      Events         Favourite  \\\n0                 UFC 159 - Jones vs. Sonnen         Jon Jones   \n1                 UFC 159 - Jones vs. Sonnen    Leonard Garcia   \n2    UFC Fight Night 34 - Saffiedine vs. Lim  Mairbek Taisumov   \n3  UFC Fight Night 91 - McDonald vs. Lineker      Cody Pfister   \n4  UFC Fight Night 91 - McDonald vs. Lineker     Matthew Lopez   \n\n         Underdog      Label  REACH_delta  SLPM_delta  SAPM_delta  STRA_delta  \\\n0    Chael Sonnen  Favourite           10        1.17        0.90        0.12   \n1   Cody McKenzie   Underdog           -3        1.03        2.29       -0.10   \n2   Tae Hyun Bang  Favourite            2        0.54        0.08        0.05   \n3  Scott Holtzman   Underdog            4       -3.15       -0.85       -0.24   \n4      Rani Yahya   Underdog            2        0.02        0.86        0.13   \n\n   STRD_delta  TD_delta  TDA_delta  TDD_delta  SUBA_delta  Odds_delta  \n0        0.03     -1.56      -0.07       0.28         0.2       -7.87  \n1       -0.15     -2.20       0.01       0.28        -2.0        1.40  \n2       -0.05      1.75       0.44       0.28        -0.5       -2.89  \n3       -0.06      0.55      -0.27      -0.58        -0.4        6.89  \n4       -0.06     -0.08       0.51       0.37        -0.5        0.81  ",
      "text/html": "<div>\n<style scoped>\n    .dataframe tbody tr th:only-of-type {\n        vertical-align: middle;\n    }\n\n    .dataframe tbody tr th {\n        vertical-align: top;\n    }\n\n    .dataframe thead th {\n        text-align: right;\n    }\n</style>\n<table border=\"1\" class=\"dataframe\">\n  <thead>\n    <tr style=\"text-align: right;\">\n      <th></th>\n      <th>Events</th>\n      <th>Favourite</th>\n      <th>Underdog</th>\n      <th>Label</th>\n      <th>REACH_delta</th>\n      <th>SLPM_delta</th>\n      <th>SAPM_delta</th>\n      <th>STRA_delta</th>\n      <th>STRD_delta</th>\n      <th>TD_delta</th>\n      <th>TDA_delta</th>\n      <th>TDD_delta</th>\n      <th>SUBA_delta</th>\n      <th>Odds_delta</th>\n    </tr>\n  </thead>\n  <tbody>\n    <tr>\n      <th>0</th>\n      <td>UFC 159 - Jones vs. Sonnen</td>\n      <td>Jon Jones</td>\n      <td>Chael Sonnen</td>\n      <td>Favourite</td>\n      <td>10</td>\n      <td>1.17</td>\n      <td>0.90</td>\n      <td>0.12</td>\n      <td>0.03</td>\n      <td>-1.56</td>\n      <td>-0.07</td>\n      <td>0.28</td>\n      <td>0.2</td>\n      <td>-7.87</td>\n    </tr>\n    <tr>\n      <th>1</th>\n      <td>UFC 159 - Jones vs. Sonnen</td>\n      <td>Leonard Garcia</td>\n      <td>Cody McKenzie</td>\n      <td>Underdog</td>\n      <td>-3</td>\n      <td>1.03</td>\n      <td>2.29</td>\n      <td>-0.10</td>\n      <td>-0.15</td>\n      <td>-2.20</td>\n      <td>0.01</td>\n      <td>0.28</td>\n      <td>-2.0</td>\n      <td>1.40</td>\n    </tr>\n    <tr>\n      <th>2</th>\n      <td>UFC Fight Night 34 - Saffiedine vs. Lim</td>\n      <td>Mairbek Taisumov</td>\n      <td>Tae Hyun Bang</td>\n      <td>Favourite</td>\n      <td>2</td>\n      <td>0.54</td>\n      <td>0.08</td>\n      <td>0.05</td>\n      <td>-0.05</td>\n      <td>1.75</td>\n      <td>0.44</td>\n      <td>0.28</td>\n      <td>-0.5</td>\n      <td>-2.89</td>\n    </tr>\n    <tr>\n      <th>3</th>\n      <td>UFC Fight Night 91 - McDonald vs. Lineker</td>\n      <td>Cody Pfister</td>\n      <td>Scott Holtzman</td>\n      <td>Underdog</td>\n      <td>4</td>\n      <td>-3.15</td>\n      <td>-0.85</td>\n      <td>-0.24</td>\n      <td>-0.06</td>\n      <td>0.55</td>\n      <td>-0.27</td>\n      <td>-0.58</td>\n      <td>-0.4</td>\n      <td>6.89</td>\n    </tr>\n    <tr>\n      <th>4</th>\n      <td>UFC Fight Night 91 - McDonald vs. Lineker</td>\n      <td>Matthew Lopez</td>\n      <td>Rani Yahya</td>\n      <td>Underdog</td>\n      <td>2</td>\n      <td>0.02</td>\n      <td>0.86</td>\n      <td>0.13</td>\n      <td>-0.06</td>\n      <td>-0.08</td>\n      <td>0.51</td>\n      <td>0.37</td>\n      <td>-0.5</td>\n      <td>0.81</td>\n    </tr>\n  </tbody>\n</table>\n</div>"
     },
     "execution_count": 11,
     "metadata": {},
     "output_type": "execute_result"
    }
   ],
   "source": [
    "df = pd.read_csv('https://raw.githubusercontent.com/tkaden/FightPicker/master/data/Cleansed_Data.csv')\n",
    "df = df.drop('Sum_delta', axis=1)\n",
    "df.head()"
   ],
   "metadata": {
    "collapsed": false,
    "pycharm": {
     "name": "#%%\n"
    }
   }
  },
  {
   "cell_type": "markdown",
   "source": [
    "## Librairies"
   ],
   "metadata": {
    "collapsed": false
   }
  },
  {
   "cell_type": "code",
   "execution_count": null,
   "outputs": [],
   "source": [
    "import pandas as pd\n",
    "import numpy as np\n",
    "import matplotlib.pyplot as plt\n",
    "import matplotlib as matplot\n",
    "import seaborn as sns\n",
    "import scipy.stats as stats\n",
    "from sklearn.ensemble import RandomForestClassifier\n",
    "from sklearn.tree import DecisionTreeClassifier\n",
    "from sklearn.linear_model import LogisticRegression\n",
    "from sklearn.neighbors import KNeighborsClassifier\n",
    "from sklearn.neural_network import MLPClassifier\n",
    "from sklearn.model_selection import GridSearchCV, train_test_split, cross_val_score, cross_val_predict\n",
    "from sklearn.feature_selection import RFECV\n",
    "from sklearn.metrics import roc_auc_score, classification_report, make_scorer, accuracy_score\n",
    "import warnings\n",
    "import time\n",
    "warnings.filterwarnings('ignore')\n",
    "%matplotlib inline\n",
    "\n",
    "#Progress bar\n",
    "def log_progress(sequence, every=None, size=None, name='Items'):\n",
    "    from ipywidgets import IntProgress, HTML, VBox\n",
    "    from IPython.display import display\n",
    "\n",
    "    is_iterator = False\n",
    "    if size is None:\n",
    "        try:\n",
    "            size = len(sequence)\n",
    "        except TypeError:\n",
    "            is_iterator = True\n",
    "    if size is not None:\n",
    "        if every is None:\n",
    "            if size <= 200:\n",
    "                every = 1\n",
    "            else:\n",
    "                every = int(size / 200)     # every 0.5%\n",
    "    else:\n",
    "        assert every is not None, 'sequence is iterator, set every'\n",
    "\n",
    "    if is_iterator:\n",
    "        progress = IntProgress(min=0, max=1, value=1)\n",
    "        progress.bar_style = 'info'\n",
    "    else:\n",
    "        progress = IntProgress(min=0, max=size, value=0)\n",
    "    label = HTML()\n",
    "    box = VBox(children=[label, progress])\n",
    "    display(box)\n",
    "\n",
    "    index = 0\n",
    "    try:\n",
    "        for index, record in enumerate(sequence, 1):\n",
    "            if index == 1 or index % every == 0:\n",
    "                if is_iterator:\n",
    "                    label.value = '{name}: {index} / ?'.format(\n",
    "                        name=name,\n",
    "                        index=index\n",
    "                    )\n",
    "                else:\n",
    "                    progress.value = index\n",
    "                    label.value = u'{name}: {index} / {size}'.format(\n",
    "                        name=name,\n",
    "                        index=index,\n",
    "                        size=size\n",
    "                    )\n",
    "            yield record\n",
    "    except:\n",
    "        progress.bar_style = 'danger'\n",
    "        raise\n",
    "    else:\n",
    "        progress.bar_style = 'success'\n",
    "        progress.value = index\n",
    "        label.value = \"{name}: {index}\".format(\n",
    "            name=name,\n",
    "            index=str(index or '?')\n",
    "        )\n",
    "\n",
    "# Creating Dummies\n",
    "def create_dummies(df,column_name):\n",
    "    \"\"\"Create Dummy Columns (One Hot Encoding) from a single Column\n",
    "\n",
    "    Usage\n",
    "    ------\n",
    "\n",
    "    train = create_dummies(train,\"Age\")\n",
    "    \"\"\"\n",
    "    dummies = pd.get_dummies(df[column_name],prefix=column_name)\n",
    "    df = pd.concat([df,dummies],axis=1)\n",
    "    return df"
   ],
   "metadata": {
    "collapsed": false,
    "pycharm": {
     "name": "#%%\n"
    }
   }
  }
 ],
 "metadata": {
  "kernelspec": {
   "display_name": "Python 3",
   "language": "python",
   "name": "python3"
  },
  "language_info": {
   "codemirror_mode": {
    "name": "ipython",
    "version": 2
   },
   "file_extension": ".py",
   "mimetype": "text/x-python",
   "name": "python",
   "nbconvert_exporter": "python",
   "pygments_lexer": "ipython2",
   "version": "2.7.6"
  }
 },
 "nbformat": 4,
 "nbformat_minor": 0
}