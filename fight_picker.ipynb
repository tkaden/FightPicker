{
 "cells": [
  {
   "cell_type": "code",
   "execution_count": null,
   "metadata": {
    "collapsed": true
   },
   "outputs": [],
   "source": [
    "# Fight Picker\n",
    "## Tyler Aden"
   ]
  },
  {
   "cell_type": "markdown",
   "source": [
    "## Introduction\n",
    "\n",
    "This is the workflow for a fight prediction application. This notebook includes:\n",
    "\n",
    "* Introduction\n",
    "    * Background\n",
    "    * Objective\n",
    "* Data Requirements\n",
    "    * Web Scraping\n",
    "    * Data Cleansing and Blending\n",
    "    * Finalized Dataset\n",
    "* Libraries Used\n",
    "* EDA\n",
    "    * Statistical Overview\n",
    "    * Heatmap and Correlation\n",
    "    * Statistical Tests\n",
    "    * Distribution Plots\n",
    "* Feature Selection\n",
    "    * Feature Significance\n",
    "* Modelling the Data\n",
    "    * Logistical Regression\n",
    "    * Random Forest\n",
    "    * Neural Network\n",
    "* Conclusion\n",
    "* Improvements\n",
    "* Citation"
   ],
   "metadata": {
    "collapsed": false
   }
  },
  {
   "cell_type": "markdown",
   "source": [
    "## Background\n",
    "\n",
    "This project is heavily influenced by [MMA Predictor](https://github.com/jasonchanhku/UFC-MMA-Predictor/). That project provides much of the bones of what I'm trying to accomplish. However, I think there are a few key elements to expand upon to improve the original project. Generally, the idea is to generate more realistic betting odds between an **Favorite** and an **Underdog** to gain an edge over Vegas and to discover insights that experts may have missed."
   ],
   "metadata": {
    "collapsed": false
   }
  },
  {
   "cell_type": "markdown",
   "source": [
    "## Objective\n",
    "The objective of this project is to build a model that:\n",
    "* Predicts better than 50% accuracy\n",
    "* Predicts better than choosing strictly favorites\n",
    "\n",
    "Further analysis on betting odds vs model performance to also be done."
   ],
   "metadata": {
    "collapsed": false
   }
  },
  {
   "cell_type": "markdown",
   "source": [
    "## Data Requirements\n",
    "\n",
    "Two datasets are needed and scraped from public sources:\n",
    "\n",
    "### UFC Fighters Database\n",
    "\n",
    "[Dataset](http://www.fightmetric.com/statistics/fighters) that contains fight stats for all UFC fighters\n",
    "\n",
    "### Dataset preview"
   ],
   "metadata": {
    "collapsed": false
   }
  },
  {
   "cell_type": "code",
   "execution_count": 1,
   "outputs": [
    {
     "data": {
      "text/plain": "                  NAME  Weight    WeightClass  REACH  SLPM  SAPM  STRA  STRD  \\\n0            Tom Aaron     155    lightweight     71  0.00  0.00  0.00  0.00   \n1         Danny Abbadi     155    lightweight     71  3.29  4.41  0.38  0.57   \n2         David Abbott     265    heavyweight     77  1.35  3.55  0.30  0.38   \n3  Shamil Abdurakhimov     235    heavyweight     76  2.53  2.53  0.45  0.58   \n4         Hiroyuki Abe     145  featherweight     70  1.71  3.11  0.36  0.63   \n\n     TD   TDA   TDD  SUBA  \n0  0.00  0.00  0.00   0.0  \n1  0.00  0.00  0.77   0.0  \n2  1.07  0.33  0.66   0.0  \n3  1.36  0.22  0.77   0.3  \n4  0.00  0.00  0.33   0.0  ",
      "text/html": "<div>\n<style scoped>\n    .dataframe tbody tr th:only-of-type {\n        vertical-align: middle;\n    }\n\n    .dataframe tbody tr th {\n        vertical-align: top;\n    }\n\n    .dataframe thead th {\n        text-align: right;\n    }\n</style>\n<table border=\"1\" class=\"dataframe\">\n  <thead>\n    <tr style=\"text-align: right;\">\n      <th></th>\n      <th>NAME</th>\n      <th>Weight</th>\n      <th>WeightClass</th>\n      <th>REACH</th>\n      <th>SLPM</th>\n      <th>SAPM</th>\n      <th>STRA</th>\n      <th>STRD</th>\n      <th>TD</th>\n      <th>TDA</th>\n      <th>TDD</th>\n      <th>SUBA</th>\n    </tr>\n  </thead>\n  <tbody>\n    <tr>\n      <th>0</th>\n      <td>Tom Aaron</td>\n      <td>155</td>\n      <td>lightweight</td>\n      <td>71</td>\n      <td>0.00</td>\n      <td>0.00</td>\n      <td>0.00</td>\n      <td>0.00</td>\n      <td>0.00</td>\n      <td>0.00</td>\n      <td>0.00</td>\n      <td>0.0</td>\n    </tr>\n    <tr>\n      <th>1</th>\n      <td>Danny Abbadi</td>\n      <td>155</td>\n      <td>lightweight</td>\n      <td>71</td>\n      <td>3.29</td>\n      <td>4.41</td>\n      <td>0.38</td>\n      <td>0.57</td>\n      <td>0.00</td>\n      <td>0.00</td>\n      <td>0.77</td>\n      <td>0.0</td>\n    </tr>\n    <tr>\n      <th>2</th>\n      <td>David Abbott</td>\n      <td>265</td>\n      <td>heavyweight</td>\n      <td>77</td>\n      <td>1.35</td>\n      <td>3.55</td>\n      <td>0.30</td>\n      <td>0.38</td>\n      <td>1.07</td>\n      <td>0.33</td>\n      <td>0.66</td>\n      <td>0.0</td>\n    </tr>\n    <tr>\n      <th>3</th>\n      <td>Shamil Abdurakhimov</td>\n      <td>235</td>\n      <td>heavyweight</td>\n      <td>76</td>\n      <td>2.53</td>\n      <td>2.53</td>\n      <td>0.45</td>\n      <td>0.58</td>\n      <td>1.36</td>\n      <td>0.22</td>\n      <td>0.77</td>\n      <td>0.3</td>\n    </tr>\n    <tr>\n      <th>4</th>\n      <td>Hiroyuki Abe</td>\n      <td>145</td>\n      <td>featherweight</td>\n      <td>70</td>\n      <td>1.71</td>\n      <td>3.11</td>\n      <td>0.36</td>\n      <td>0.63</td>\n      <td>0.00</td>\n      <td>0.00</td>\n      <td>0.33</td>\n      <td>0.0</td>\n    </tr>\n  </tbody>\n</table>\n</div>"
     },
     "execution_count": 1,
     "metadata": {},
     "output_type": "execute_result"
    }
   ],
   "source": [
    "import pandas as pd\n",
    "fighter_db = pd.read_csv('https://raw.githubusercontent.com/tkaden/FightPicker/master/data/UFC_Fighters_Database.csv')\n",
    "fighter_db.head()"
   ],
   "metadata": {
    "collapsed": false,
    "pycharm": {
     "name": "#%%\n"
    }
   }
  },
  {
   "cell_type": "code",
   "execution_count": null,
   "outputs": [],
   "source": [],
   "metadata": {
    "collapsed": false,
    "pycharm": {
     "name": "#%%\n"
    }
   }
  }
 ],
 "metadata": {
  "kernelspec": {
   "display_name": "Python 3",
   "language": "python",
   "name": "python3"
  },
  "language_info": {
   "codemirror_mode": {
    "name": "ipython",
    "version": 2
   },
   "file_extension": ".py",
   "mimetype": "text/x-python",
   "name": "python",
   "nbconvert_exporter": "python",
   "pygments_lexer": "ipython2",
   "version": "2.7.6"
  }
 },
 "nbformat": 4,
 "nbformat_minor": 0
}